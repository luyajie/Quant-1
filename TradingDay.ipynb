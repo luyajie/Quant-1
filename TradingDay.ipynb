{
 "cells": [
  {
   "cell_type": "markdown",
   "metadata": {},
   "source": [
    "# 메소드와 객체 정의\n",
    "## 휴장일 파일의 PATH 잡아줘야함 "
   ]
  },
  {
   "cell_type": "code",
   "execution_count": 1,
   "metadata": {
    "collapsed": true
   },
   "outputs": [],
   "source": [
    "import sys\n",
    "import datetime\n",
    "\n",
    "\n",
    "CLOSE_DAY_FILE = r'C:\\Users\\jang\\PycharmProjects\\close_day.txt'\n",
    "\n",
    "\n",
    "def get_close_date_list():\n",
    "    # 휴장일을 텍스트파일로부터 받아옴\n",
    "    # 양식 : YYYYMMDD\n",
    "    # 20140101\n",
    "    # 20140505\n",
    "    # 20140815\n",
    "    try:\n",
    "        with open(CLOSE_DAY_FILE, 'r') as f:\n",
    "            close_date_list = []\n",
    "            for line in f.readlines():\n",
    "                date = line.split(\"\\n\")[0]\n",
    "                close_date_list.append(date)\n",
    "    except FileNotFoundError:\n",
    "        print('휴장일 데이터 파일이 없음')\n",
    "        sys.exit(-1)\n",
    "    return tuple(close_date_list)\n",
    "\n",
    "\n",
    "def get_trading_days_list(min_year=2010, size=4000):\n",
    "    # 임의로 2010년 부터 시작함\n",
    "    base = datetime.date(min_year, 1, 1)\n",
    "    date_list = [base + datetime.timedelta(days=x) for x in range(0, size)]\n",
    "\n",
    "    # 주말제외한 리스트\n",
    "    week_days_list = []\n",
    "    for date in date_list:\n",
    "        if date.weekday() not in [5, 6]:  # 5:토요일 6:일요일\n",
    "            week_days_list.append(date)\n",
    "\n",
    "    # 휴장일 제외\n",
    "    close_date_list = get_close_date_list()\n",
    "    close_date_time_list = []\n",
    "    for close_date in close_date_list:\n",
    "        close_date_time_list.append(datetime.datetime.strptime(close_date, '%Y%m%d').date())\n",
    "    trading_days_list = list(set(week_days_list) - set(close_date_time_list))\n",
    "    trading_days_list.sort()\n",
    "    return tuple(trading_days_list)\n",
    "\n",
    "\n",
    "class TradingDay:\n",
    "    trading_days_list = get_trading_days_list()\n",
    "\n",
    "    def __init__(self, target):\n",
    "        self.target_date = datetime.datetime.strptime(str(target), '%Y%m%d').date()\n",
    "        if self.target_date not in TradingDay.trading_days_list:\n",
    "            raise ValueError(target, '는 휴장일')\n",
    "\n",
    "    def get_target_date(self):\n",
    "        return self.target_date\n",
    "\n",
    "    def get_target_date_str_t(self):\n",
    "        return self.target_date.strftime('%Y%m%d')\n",
    "\n",
    "    def get_target_date_int_t(self):\n",
    "        return int(self.get_target_date_str_t())\n",
    "\n",
    "    def set_target_date(self, target):\n",
    "        temp_date = datetime.datetime.strptime(str(target), '%Y%m%d').date()\n",
    "        if temp_date not in self.trading_days_list:\n",
    "            raise IndexError(temp_date, '는 휴장일')\n",
    "        else:\n",
    "            self.target_date = temp_date\n",
    "\n",
    "    def delta(self, days):\n",
    "        index = TradingDay.trading_days_list.index(self.get_target_date())\n",
    "        return TradingDay.trading_days_list[index + days]\n",
    "\n",
    "    def delta_str_t(self, days):\n",
    "        return self.delta(days).strftime('%Y%m%d')\n",
    "\n",
    "    def delta_int_t(self, days):\n",
    "        return int(self.delta_str_t(days))\n",
    "\n",
    "    @staticmethod\n",
    "    def trading_days_between_date(cur_date, target_date):\n",
    "        \"\"\"\n",
    "        cur_date, target_date : int 타입\n",
    "        cur_date 가 target_date 로 부터 몇 거래일인지 리턴해줌\n",
    "        :return:\n",
    "        \"\"\"\n",
    "        cur_date = datetime.datetime.strptime(str(cur_date), '%Y%m%d').date()\n",
    "        target_date = datetime.datetime.strptime(str(target_date), '%Y%m%d').date()\n",
    "        cur_date_index = TradingDay.trading_days_list.index(cur_date)\n",
    "        target_date_index = TradingDay.trading_days_list.index(target_date)\n",
    "        return cur_date_index - target_date_index\n",
    "\n",
    "    @staticmethod\n",
    "    def get_trading_day_list(start_date, end_date):\n",
    "        start_date = datetime.datetime.strptime(str(start_date), '%Y%m%d').date()\n",
    "        end_date = datetime.datetime.strptime(str(end_date), '%Y%m%d').date()\n",
    "\n",
    "        if start_date not in TradingDay.trading_days_list:\n",
    "            raise ValueError(start_date, '휴장일')\n",
    "        elif end_date not in TradingDay.trading_days_list:\n",
    "            raise ValueError(end_date, '휴장일')\n",
    "\n",
    "        std_idx = TradingDay.trading_days_list.index(start_date)\n",
    "        end_idx = TradingDay.trading_days_list.index(end_date)\n",
    "        return [int(date.strftime('%Y%m%d')) for date in TradingDay.trading_days_list[std_idx:end_idx + 1]]\n",
    "\n",
    "    @staticmethod\n",
    "    def trading_days_by_year(year):\n",
    "        date_list = []\n",
    "        for date in TradingDay.trading_days_list:\n",
    "            if date.year == year:\n",
    "                date_list.append(int(date.strftime('%Y%m%d')))\n",
    "        return date_list\n",
    "\n",
    "    @staticmethod\n",
    "    def trading_days_by_year_n_month(year, month):\n",
    "        \"\"\"\n",
    "        year, month 인자로 받아\n",
    "        거래일 리스트 리턴\n",
    "        \"\"\"\n",
    "        date_list = []\n",
    "        for date in TradingDay.trading_days_list:\n",
    "            if date.year == year and date.month == month:\n",
    "                date_list.append(int(date.strftime('%Y%m%d')))\n",
    "        return date_list\n",
    "\n",
    "    @staticmethod\n",
    "    def expiration_date(year, month):\n",
    "        \"\"\"\n",
    "        만기일은 매달 두번째 목요일\n",
    "        연도와 달을 인자로 받아\n",
    "        만기일을 리턴하는 함수\n",
    "        \"\"\"\n",
    "        first_thursday = None\n",
    "        for i in range(1, 8):\n",
    "            date = datetime.datetime(year, month, i).date()\n",
    "            if date.weekday() == 3:\n",
    "                first_thursday = date\n",
    "        second_thursday = int((first_thursday + datetime.timedelta(days=7)).strftime('%Y%m%d'))\n",
    "\n",
    "        trading_days = TradingDay.trading_days_by_year_n_month(year, month)\n",
    "        if second_thursday in trading_days:\n",
    "            return second_thursday\n",
    "        else:\n",
    "            trading_days.reverse()\n",
    "            for date in trading_days:\n",
    "                if date < second_thursday:\n",
    "                    return date\n",
    "    \n",
    "    @staticmethod\n",
    "    def magnet(date, flag):\n",
    "        \"\"\"\n",
    "        flag:: before:0, after:1\n",
    "        \"\"\"\n",
    "        date = datetime.datetime.strptime(str(date), '%Y%m%d').date()\n",
    "        idx = 0\n",
    "        for trading_day in TradingDay.trading_days_list:\n",
    "            if date <= trading_day:\n",
    "                break\n",
    "            idx += 1\n",
    "        if date == TradingDay.trading_days_list[idx]:\n",
    "            return int(TradingDay.trading_days_list[idx].strftime('%Y%m%d'))\n",
    "        else:\n",
    "            if flag == 0:\n",
    "                return int(TradingDay.trading_days_list[idx-1].strftime('%Y%m%d'))\n",
    "            else:\n",
    "                return int(TradingDay.trading_days_list[idx].strftime('%Y%m%d'))\n"
   ]
  },
  {
   "cell_type": "markdown",
   "metadata": {},
   "source": [
    "# TradingDay 객체 생성\n",
    "## 인자는 기준으로 설정할 거래일 YYYYMMDD"
   ]
  },
  {
   "cell_type": "code",
   "execution_count": 2,
   "metadata": {
    "collapsed": true
   },
   "outputs": [],
   "source": [
    "td = TradingDay(20171124)"
   ]
  },
  {
   "cell_type": "markdown",
   "metadata": {},
   "source": [
    "### 기준일 출력"
   ]
  },
  {
   "cell_type": "code",
   "execution_count": 3,
   "metadata": {},
   "outputs": [
    {
     "data": {
      "text/plain": [
       "datetime.date(2017, 11, 24)"
      ]
     },
     "execution_count": 3,
     "metadata": {},
     "output_type": "execute_result"
    }
   ],
   "source": [
    "td.get_target_date()"
   ]
  },
  {
   "cell_type": "code",
   "execution_count": 4,
   "metadata": {},
   "outputs": [
    {
     "data": {
      "text/plain": [
       "20171124"
      ]
     },
     "execution_count": 4,
     "metadata": {},
     "output_type": "execute_result"
    }
   ],
   "source": [
    "td.get_target_date_int_t()"
   ]
  },
  {
   "cell_type": "code",
   "execution_count": 5,
   "metadata": {},
   "outputs": [
    {
     "data": {
      "text/plain": [
       "'20171124'"
      ]
     },
     "execution_count": 5,
     "metadata": {},
     "output_type": "execute_result"
    }
   ],
   "source": [
    "td.get_target_date_str_t()"
   ]
  },
  {
   "cell_type": "markdown",
   "metadata": {},
   "source": [
    "### 기준일로 부터 t 거래일 떨어진 거래일의 날짜"
   ]
  },
  {
   "cell_type": "code",
   "execution_count": 6,
   "metadata": {},
   "outputs": [
    {
     "data": {
      "text/plain": [
       "datetime.date(2017, 12, 8)"
      ]
     },
     "execution_count": 6,
     "metadata": {},
     "output_type": "execute_result"
    }
   ],
   "source": [
    "td.delta(10)"
   ]
  },
  {
   "cell_type": "code",
   "execution_count": 7,
   "metadata": {},
   "outputs": [
    {
     "data": {
      "text/plain": [
       "20171208"
      ]
     },
     "execution_count": 7,
     "metadata": {},
     "output_type": "execute_result"
    }
   ],
   "source": [
    "td.delta_int_t(10)"
   ]
  },
  {
   "cell_type": "code",
   "execution_count": 8,
   "metadata": {},
   "outputs": [
    {
     "data": {
      "text/plain": [
       "'20171208'"
      ]
     },
     "execution_count": 8,
     "metadata": {},
     "output_type": "execute_result"
    }
   ],
   "source": [
    "td.delta_str_t(10)"
   ]
  },
  {
   "cell_type": "code",
   "execution_count": 9,
   "metadata": {},
   "outputs": [
    {
     "data": {
      "text/plain": [
       "datetime.date(2017, 10, 27)"
      ]
     },
     "execution_count": 9,
     "metadata": {},
     "output_type": "execute_result"
    }
   ],
   "source": [
    "td.delta(-20)"
   ]
  },
  {
   "cell_type": "code",
   "execution_count": 10,
   "metadata": {},
   "outputs": [
    {
     "data": {
      "text/plain": [
       "20171027"
      ]
     },
     "execution_count": 10,
     "metadata": {},
     "output_type": "execute_result"
    }
   ],
   "source": [
    "td.delta_int_t(-20)"
   ]
  },
  {
   "cell_type": "code",
   "execution_count": 11,
   "metadata": {},
   "outputs": [
    {
     "data": {
      "text/plain": [
       "'20171027'"
      ]
     },
     "execution_count": 11,
     "metadata": {},
     "output_type": "execute_result"
    }
   ],
   "source": [
    "td.delta_str_t(-20)"
   ]
  },
  {
   "cell_type": "markdown",
   "metadata": {},
   "source": [
    "### 거래일과 거래일 사이의 거래일"
   ]
  },
  {
   "cell_type": "code",
   "execution_count": 12,
   "metadata": {},
   "outputs": [
    {
     "data": {
      "text/plain": [
       "17"
      ]
     },
     "execution_count": 12,
     "metadata": {},
     "output_type": "execute_result"
    }
   ],
   "source": [
    "TradingDay.trading_days_between_date(20171124, 20171101)"
   ]
  },
  {
   "cell_type": "markdown",
   "metadata": {},
   "source": [
    "### 시작일과 종료일을 인자로 받아 거래일 리스트 리턴"
   ]
  },
  {
   "cell_type": "code",
   "execution_count": 13,
   "metadata": {},
   "outputs": [
    {
     "data": {
      "text/plain": [
       "[20171101,\n",
       " 20171102,\n",
       " 20171103,\n",
       " 20171106,\n",
       " 20171107,\n",
       " 20171108,\n",
       " 20171109,\n",
       " 20171110,\n",
       " 20171113,\n",
       " 20171114,\n",
       " 20171115,\n",
       " 20171116,\n",
       " 20171117,\n",
       " 20171120,\n",
       " 20171121,\n",
       " 20171122,\n",
       " 20171123,\n",
       " 20171124]"
      ]
     },
     "execution_count": 13,
     "metadata": {},
     "output_type": "execute_result"
    }
   ],
   "source": [
    "TradingDay.get_trading_day_list(20171101, 20171124)"
   ]
  },
  {
   "cell_type": "markdown",
   "metadata": {},
   "source": [
    "###  해당하는 연도의 거래일"
   ]
  },
  {
   "cell_type": "code",
   "execution_count": 14,
   "metadata": {},
   "outputs": [
    {
     "data": {
      "text/plain": [
       "[20170102,\n",
       " 20170103,\n",
       " 20170104,\n",
       " 20170105,\n",
       " 20170106,\n",
       " 20170109,\n",
       " 20170110,\n",
       " 20170111,\n",
       " 20170112,\n",
       " 20170113,\n",
       " 20170116,\n",
       " 20170117,\n",
       " 20170118,\n",
       " 20170119,\n",
       " 20170120,\n",
       " 20170123,\n",
       " 20170124,\n",
       " 20170125,\n",
       " 20170126,\n",
       " 20170131,\n",
       " 20170201,\n",
       " 20170202,\n",
       " 20170203,\n",
       " 20170206,\n",
       " 20170207,\n",
       " 20170208,\n",
       " 20170209,\n",
       " 20170210,\n",
       " 20170213,\n",
       " 20170214,\n",
       " 20170215,\n",
       " 20170216,\n",
       " 20170217,\n",
       " 20170220,\n",
       " 20170221,\n",
       " 20170222,\n",
       " 20170223,\n",
       " 20170224,\n",
       " 20170227,\n",
       " 20170228,\n",
       " 20170302,\n",
       " 20170303,\n",
       " 20170306,\n",
       " 20170307,\n",
       " 20170308,\n",
       " 20170309,\n",
       " 20170310,\n",
       " 20170313,\n",
       " 20170314,\n",
       " 20170315,\n",
       " 20170316,\n",
       " 20170317,\n",
       " 20170320,\n",
       " 20170321,\n",
       " 20170322,\n",
       " 20170323,\n",
       " 20170324,\n",
       " 20170327,\n",
       " 20170328,\n",
       " 20170329,\n",
       " 20170330,\n",
       " 20170331,\n",
       " 20170403,\n",
       " 20170404,\n",
       " 20170405,\n",
       " 20170406,\n",
       " 20170407,\n",
       " 20170410,\n",
       " 20170411,\n",
       " 20170412,\n",
       " 20170413,\n",
       " 20170414,\n",
       " 20170417,\n",
       " 20170418,\n",
       " 20170419,\n",
       " 20170420,\n",
       " 20170421,\n",
       " 20170424,\n",
       " 20170425,\n",
       " 20170426,\n",
       " 20170427,\n",
       " 20170428,\n",
       " 20170502,\n",
       " 20170504,\n",
       " 20170508,\n",
       " 20170510,\n",
       " 20170511,\n",
       " 20170512,\n",
       " 20170515,\n",
       " 20170516,\n",
       " 20170517,\n",
       " 20170518,\n",
       " 20170519,\n",
       " 20170522,\n",
       " 20170523,\n",
       " 20170524,\n",
       " 20170525,\n",
       " 20170526,\n",
       " 20170529,\n",
       " 20170530,\n",
       " 20170531,\n",
       " 20170601,\n",
       " 20170602,\n",
       " 20170605,\n",
       " 20170607,\n",
       " 20170608,\n",
       " 20170609,\n",
       " 20170612,\n",
       " 20170613,\n",
       " 20170614,\n",
       " 20170615,\n",
       " 20170616,\n",
       " 20170619,\n",
       " 20170620,\n",
       " 20170621,\n",
       " 20170622,\n",
       " 20170623,\n",
       " 20170626,\n",
       " 20170627,\n",
       " 20170628,\n",
       " 20170629,\n",
       " 20170630,\n",
       " 20170703,\n",
       " 20170704,\n",
       " 20170705,\n",
       " 20170706,\n",
       " 20170707,\n",
       " 20170710,\n",
       " 20170711,\n",
       " 20170712,\n",
       " 20170713,\n",
       " 20170714,\n",
       " 20170717,\n",
       " 20170718,\n",
       " 20170719,\n",
       " 20170720,\n",
       " 20170721,\n",
       " 20170724,\n",
       " 20170725,\n",
       " 20170726,\n",
       " 20170727,\n",
       " 20170728,\n",
       " 20170731,\n",
       " 20170801,\n",
       " 20170802,\n",
       " 20170803,\n",
       " 20170804,\n",
       " 20170807,\n",
       " 20170808,\n",
       " 20170809,\n",
       " 20170810,\n",
       " 20170811,\n",
       " 20170814,\n",
       " 20170816,\n",
       " 20170817,\n",
       " 20170818,\n",
       " 20170821,\n",
       " 20170822,\n",
       " 20170823,\n",
       " 20170824,\n",
       " 20170825,\n",
       " 20170828,\n",
       " 20170829,\n",
       " 20170830,\n",
       " 20170831,\n",
       " 20170901,\n",
       " 20170904,\n",
       " 20170905,\n",
       " 20170906,\n",
       " 20170907,\n",
       " 20170908,\n",
       " 20170911,\n",
       " 20170912,\n",
       " 20170913,\n",
       " 20170914,\n",
       " 20170915,\n",
       " 20170918,\n",
       " 20170919,\n",
       " 20170920,\n",
       " 20170921,\n",
       " 20170922,\n",
       " 20170925,\n",
       " 20170926,\n",
       " 20170927,\n",
       " 20170928,\n",
       " 20170929,\n",
       " 20171010,\n",
       " 20171011,\n",
       " 20171012,\n",
       " 20171013,\n",
       " 20171016,\n",
       " 20171017,\n",
       " 20171018,\n",
       " 20171019,\n",
       " 20171020,\n",
       " 20171023,\n",
       " 20171024,\n",
       " 20171025,\n",
       " 20171026,\n",
       " 20171027,\n",
       " 20171030,\n",
       " 20171031,\n",
       " 20171101,\n",
       " 20171102,\n",
       " 20171103,\n",
       " 20171106,\n",
       " 20171107,\n",
       " 20171108,\n",
       " 20171109,\n",
       " 20171110,\n",
       " 20171113,\n",
       " 20171114,\n",
       " 20171115,\n",
       " 20171116,\n",
       " 20171117,\n",
       " 20171120,\n",
       " 20171121,\n",
       " 20171122,\n",
       " 20171123,\n",
       " 20171124,\n",
       " 20171127,\n",
       " 20171128,\n",
       " 20171129,\n",
       " 20171130,\n",
       " 20171201,\n",
       " 20171204,\n",
       " 20171205,\n",
       " 20171206,\n",
       " 20171207,\n",
       " 20171208,\n",
       " 20171211,\n",
       " 20171212,\n",
       " 20171213,\n",
       " 20171214,\n",
       " 20171215,\n",
       " 20171218,\n",
       " 20171219,\n",
       " 20171221,\n",
       " 20171222,\n",
       " 20171226,\n",
       " 20171227,\n",
       " 20171228]"
      ]
     },
     "execution_count": 14,
     "metadata": {},
     "output_type": "execute_result"
    }
   ],
   "source": [
    "TradingDay.trading_days_by_year(2017)"
   ]
  },
  {
   "cell_type": "markdown",
   "metadata": {},
   "source": [
    "### 해당하는 월의 거래일"
   ]
  },
  {
   "cell_type": "code",
   "execution_count": 15,
   "metadata": {
    "scrolled": true
   },
   "outputs": [
    {
     "data": {
      "text/plain": [
       "[20171101,\n",
       " 20171102,\n",
       " 20171103,\n",
       " 20171106,\n",
       " 20171107,\n",
       " 20171108,\n",
       " 20171109,\n",
       " 20171110,\n",
       " 20171113,\n",
       " 20171114,\n",
       " 20171115,\n",
       " 20171116,\n",
       " 20171117,\n",
       " 20171120,\n",
       " 20171121,\n",
       " 20171122,\n",
       " 20171123,\n",
       " 20171124,\n",
       " 20171127,\n",
       " 20171128,\n",
       " 20171129,\n",
       " 20171130]"
      ]
     },
     "execution_count": 15,
     "metadata": {},
     "output_type": "execute_result"
    }
   ],
   "source": [
    "TradingDay.trading_days_by_year_n_month(2017, 11)"
   ]
  },
  {
   "cell_type": "markdown",
   "metadata": {},
   "source": [
    "### 만기일"
   ]
  },
  {
   "cell_type": "code",
   "execution_count": 16,
   "metadata": {},
   "outputs": [
    {
     "data": {
      "text/plain": [
       "20171109"
      ]
     },
     "execution_count": 16,
     "metadata": {},
     "output_type": "execute_result"
    }
   ],
   "source": [
    "TradingDay.expiration_date(2017, 11)"
   ]
  },
  {
   "cell_type": "markdown",
   "metadata": {},
   "source": [
    "### 해당날짜가 거래일이 아닌경우 근접한 거래일 리턴"
   ]
  },
  {
   "cell_type": "code",
   "execution_count": 17,
   "metadata": {},
   "outputs": [
    {
     "data": {
      "text/plain": [
       "20171124"
      ]
     },
     "execution_count": 17,
     "metadata": {},
     "output_type": "execute_result"
    }
   ],
   "source": [
    "TradingDay.magnet(20171125, 0)"
   ]
  },
  {
   "cell_type": "code",
   "execution_count": 18,
   "metadata": {},
   "outputs": [
    {
     "data": {
      "text/plain": [
       "20171127"
      ]
     },
     "execution_count": 18,
     "metadata": {},
     "output_type": "execute_result"
    }
   ],
   "source": [
    "TradingDay.magnet(20171125, 1)"
   ]
  }
 ],
 "metadata": {
  "anaconda-cloud": {},
  "kernelspec": {
   "display_name": "Python [default]",
   "language": "python",
   "name": "python3"
  },
  "language_info": {
   "codemirror_mode": {
    "name": "ipython",
    "version": 3
   },
   "file_extension": ".py",
   "mimetype": "text/x-python",
   "name": "python",
   "nbconvert_exporter": "python",
   "pygments_lexer": "ipython3",
   "version": "3.5.2"
  }
 },
 "nbformat": 4,
 "nbformat_minor": 1
}
